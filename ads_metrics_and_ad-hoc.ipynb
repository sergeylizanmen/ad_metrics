{
 "cells": [
  {
   "cell_type": "markdown",
   "id": "7967a969",
   "metadata": {},
   "source": [
    "Данные и запросы взяты из курса [АНАЛИТИК ДАННЫХ](https://karpov.courses/analytics) от Анатолия Карпова"
   ]
  },
  {
   "cell_type": "markdown",
   "id": "38c07bd8",
   "metadata": {},
   "source": [
    "Перед вами данные взаимодействий с рекламными объявлениями на некоторой площадке за 6 дней. И таблица с характеристиками рекламных клиентов (те, кто разместил эти объявления).\n",
    "\n",
    "`ads_data.csv` – данные взаимодействий с рекламными объявлениями\n",
    "* date – дата\n",
    "* time – время\n",
    "* event – действие (просмотр/клик)\n",
    "* platform – платформа\n",
    "* ad_id – id объявления\n",
    "* client_union_id – id рекламного кабинета\n",
    "* campaign_union_id – id рекламной кампании\n",
    "* ad_cost_type – тип оплаты\n",
    "* ad_cost – цена\n",
    "* has_video – есть ли видео\n",
    "* target_audience_count – размер аудитории\n",
    "\n",
    "`ads_clients_data.csv` – характеристики рекламных клиентов\n",
    "* date – дата\n",
    "* client_union_id – id рекламного кабинета\n",
    "* community_id – id сообщества\n",
    "* create_date – дата создания рекламного клиента"
   ]
  },
  {
   "cell_type": "code",
   "execution_count": 19,
   "id": "fbb4e848",
   "metadata": {},
   "outputs": [],
   "source": [
    "import pandas as pd\n",
    "import numpy as np\n",
    "import seaborn as sns\n",
    "import matplotlib.pyplot as plt\n",
    "\n",
    "import warnings\n",
    "warnings.simplefilter('ignore')"
   ]
  },
  {
   "cell_type": "code",
   "execution_count": 20,
   "id": "58ec9c05",
   "metadata": {},
   "outputs": [],
   "source": [
    "# Настройки для графиков\n",
    "sns.set(style='whitegrid',\n",
    "        font_scale=1.2,\n",
    "        rc={'figure.figsize': (14, 6)})"
   ]
  },
  {
   "cell_type": "code",
   "execution_count": 21,
   "id": "4ca9eb0c",
   "metadata": {},
   "outputs": [],
   "source": [
    "# Функция для подписи графика\n",
    "def sets_for_plot(plot, title='', title_fontsize=22, \n",
    "                  xlabel='', xlabel_fontsize=18, \n",
    "                  ylabel='', ylabel_fontsize=18):\n",
    "    \n",
    "    plot.set_title(title, fontsize=title_fontsize)\n",
    "    plot.set_xlabel(xlabel, fontsize=xlabel_fontsize)\n",
    "    plot.set_ylabel(ylabel, fontsize=ylabel_fontsize)"
   ]
  },
  {
   "cell_type": "markdown",
   "id": "859475db",
   "metadata": {},
   "source": [
    "# Импорт данных"
   ]
  },
  {
   "cell_type": "code",
   "execution_count": 52,
   "id": "ba8672fb",
   "metadata": {},
   "outputs": [
    {
     "data": {
      "text/html": [
       "<div>\n",
       "<style scoped>\n",
       "    .dataframe tbody tr th:only-of-type {\n",
       "        vertical-align: middle;\n",
       "    }\n",
       "\n",
       "    .dataframe tbody tr th {\n",
       "        vertical-align: top;\n",
       "    }\n",
       "\n",
       "    .dataframe thead th {\n",
       "        text-align: right;\n",
       "    }\n",
       "</style>\n",
       "<table border=\"1\" class=\"dataframe\">\n",
       "  <thead>\n",
       "    <tr style=\"text-align: right;\">\n",
       "      <th></th>\n",
       "      <th>date</th>\n",
       "      <th>time</th>\n",
       "      <th>event</th>\n",
       "      <th>platform</th>\n",
       "      <th>ad_id</th>\n",
       "      <th>client_union_id</th>\n",
       "      <th>campaign_union_id</th>\n",
       "      <th>ad_cost_type</th>\n",
       "      <th>ad_cost</th>\n",
       "      <th>has_video</th>\n",
       "      <th>target_audience_count</th>\n",
       "    </tr>\n",
       "  </thead>\n",
       "  <tbody>\n",
       "    <tr>\n",
       "      <th>0</th>\n",
       "      <td>2019-04-01</td>\n",
       "      <td>2019-04-01 00:00:48</td>\n",
       "      <td>view</td>\n",
       "      <td>android</td>\n",
       "      <td>45061</td>\n",
       "      <td>34734</td>\n",
       "      <td>45061</td>\n",
       "      <td>CPM</td>\n",
       "      <td>200.6</td>\n",
       "      <td>0</td>\n",
       "      <td>1955269</td>\n",
       "    </tr>\n",
       "    <tr>\n",
       "      <th>1</th>\n",
       "      <td>2019-04-01</td>\n",
       "      <td>2019-04-01 00:00:48</td>\n",
       "      <td>view</td>\n",
       "      <td>web</td>\n",
       "      <td>121288</td>\n",
       "      <td>121288</td>\n",
       "      <td>121288</td>\n",
       "      <td>CPM</td>\n",
       "      <td>187.4</td>\n",
       "      <td>0</td>\n",
       "      <td>232011</td>\n",
       "    </tr>\n",
       "    <tr>\n",
       "      <th>2</th>\n",
       "      <td>2019-04-01</td>\n",
       "      <td>2019-04-01 00:01:03</td>\n",
       "      <td>view</td>\n",
       "      <td>android</td>\n",
       "      <td>102737</td>\n",
       "      <td>102535</td>\n",
       "      <td>102564</td>\n",
       "      <td>CPC</td>\n",
       "      <td>60.7</td>\n",
       "      <td>0</td>\n",
       "      <td>4410</td>\n",
       "    </tr>\n",
       "    <tr>\n",
       "      <th>3</th>\n",
       "      <td>2019-04-01</td>\n",
       "      <td>2019-04-01 00:01:03</td>\n",
       "      <td>view</td>\n",
       "      <td>android</td>\n",
       "      <td>107564</td>\n",
       "      <td>106914</td>\n",
       "      <td>107564</td>\n",
       "      <td>CPM</td>\n",
       "      <td>217.3</td>\n",
       "      <td>0</td>\n",
       "      <td>62711</td>\n",
       "    </tr>\n",
       "    <tr>\n",
       "      <th>4</th>\n",
       "      <td>2019-04-01</td>\n",
       "      <td>2019-04-01 00:01:09</td>\n",
       "      <td>view</td>\n",
       "      <td>android</td>\n",
       "      <td>4922</td>\n",
       "      <td>37</td>\n",
       "      <td>4400</td>\n",
       "      <td>CPC</td>\n",
       "      <td>60.1</td>\n",
       "      <td>0</td>\n",
       "      <td>1183501</td>\n",
       "    </tr>\n",
       "    <tr>\n",
       "      <th>...</th>\n",
       "      <td>...</td>\n",
       "      <td>...</td>\n",
       "      <td>...</td>\n",
       "      <td>...</td>\n",
       "      <td>...</td>\n",
       "      <td>...</td>\n",
       "      <td>...</td>\n",
       "      <td>...</td>\n",
       "      <td>...</td>\n",
       "      <td>...</td>\n",
       "      <td>...</td>\n",
       "    </tr>\n",
       "    <tr>\n",
       "      <th>999995</th>\n",
       "      <td>2019-04-05</td>\n",
       "      <td>2019-04-05 20:59:52</td>\n",
       "      <td>view</td>\n",
       "      <td>web</td>\n",
       "      <td>112583</td>\n",
       "      <td>111818</td>\n",
       "      <td>112260</td>\n",
       "      <td>CPM</td>\n",
       "      <td>210.1</td>\n",
       "      <td>0</td>\n",
       "      <td>22392</td>\n",
       "    </tr>\n",
       "    <tr>\n",
       "      <th>999996</th>\n",
       "      <td>2019-04-05</td>\n",
       "      <td>2019-04-05 20:59:52</td>\n",
       "      <td>view</td>\n",
       "      <td>android</td>\n",
       "      <td>112583</td>\n",
       "      <td>111818</td>\n",
       "      <td>112260</td>\n",
       "      <td>CPM</td>\n",
       "      <td>210.1</td>\n",
       "      <td>0</td>\n",
       "      <td>22392</td>\n",
       "    </tr>\n",
       "    <tr>\n",
       "      <th>999997</th>\n",
       "      <td>2019-04-05</td>\n",
       "      <td>2019-04-05 20:59:52</td>\n",
       "      <td>click</td>\n",
       "      <td>web</td>\n",
       "      <td>112583</td>\n",
       "      <td>111818</td>\n",
       "      <td>112260</td>\n",
       "      <td>CPM</td>\n",
       "      <td>210.1</td>\n",
       "      <td>0</td>\n",
       "      <td>22392</td>\n",
       "    </tr>\n",
       "    <tr>\n",
       "      <th>999998</th>\n",
       "      <td>2019-04-05</td>\n",
       "      <td>2019-04-05 20:59:52</td>\n",
       "      <td>view</td>\n",
       "      <td>web</td>\n",
       "      <td>113350</td>\n",
       "      <td>113036</td>\n",
       "      <td>113251</td>\n",
       "      <td>CPM</td>\n",
       "      <td>183.3</td>\n",
       "      <td>0</td>\n",
       "      <td>571929</td>\n",
       "    </tr>\n",
       "    <tr>\n",
       "      <th>999999</th>\n",
       "      <td>2019-04-05</td>\n",
       "      <td>2019-04-05 20:59:52</td>\n",
       "      <td>view</td>\n",
       "      <td>android</td>\n",
       "      <td>117353</td>\n",
       "      <td>117350</td>\n",
       "      <td>117353</td>\n",
       "      <td>CPM</td>\n",
       "      <td>207.5</td>\n",
       "      <td>1</td>\n",
       "      <td>167598</td>\n",
       "    </tr>\n",
       "  </tbody>\n",
       "</table>\n",
       "<p>1000000 rows × 11 columns</p>\n",
       "</div>"
      ],
      "text/plain": [
       "             date                time  event platform   ad_id  \\\n",
       "0      2019-04-01 2019-04-01 00:00:48   view  android   45061   \n",
       "1      2019-04-01 2019-04-01 00:00:48   view      web  121288   \n",
       "2      2019-04-01 2019-04-01 00:01:03   view  android  102737   \n",
       "3      2019-04-01 2019-04-01 00:01:03   view  android  107564   \n",
       "4      2019-04-01 2019-04-01 00:01:09   view  android    4922   \n",
       "...           ...                 ...    ...      ...     ...   \n",
       "999995 2019-04-05 2019-04-05 20:59:52   view      web  112583   \n",
       "999996 2019-04-05 2019-04-05 20:59:52   view  android  112583   \n",
       "999997 2019-04-05 2019-04-05 20:59:52  click      web  112583   \n",
       "999998 2019-04-05 2019-04-05 20:59:52   view      web  113350   \n",
       "999999 2019-04-05 2019-04-05 20:59:52   view  android  117353   \n",
       "\n",
       "        client_union_id  campaign_union_id ad_cost_type  ad_cost  has_video  \\\n",
       "0                 34734              45061          CPM    200.6          0   \n",
       "1                121288             121288          CPM    187.4          0   \n",
       "2                102535             102564          CPC     60.7          0   \n",
       "3                106914             107564          CPM    217.3          0   \n",
       "4                    37               4400          CPC     60.1          0   \n",
       "...                 ...                ...          ...      ...        ...   \n",
       "999995           111818             112260          CPM    210.1          0   \n",
       "999996           111818             112260          CPM    210.1          0   \n",
       "999997           111818             112260          CPM    210.1          0   \n",
       "999998           113036             113251          CPM    183.3          0   \n",
       "999999           117350             117353          CPM    207.5          1   \n",
       "\n",
       "        target_audience_count  \n",
       "0                     1955269  \n",
       "1                      232011  \n",
       "2                        4410  \n",
       "3                       62711  \n",
       "4                     1183501  \n",
       "...                       ...  \n",
       "999995                  22392  \n",
       "999996                  22392  \n",
       "999997                  22392  \n",
       "999998                 571929  \n",
       "999999                 167598  \n",
       "\n",
       "[1000000 rows x 11 columns]"
      ]
     },
     "execution_count": 52,
     "metadata": {},
     "output_type": "execute_result"
    }
   ],
   "source": [
    "ads_df = pd.read_csv('ads_data.csv', parse_dates=['date', 'time'])\n",
    "ads_df"
   ]
  },
  {
   "cell_type": "code",
   "execution_count": 58,
   "id": "790ed921",
   "metadata": {},
   "outputs": [
    {
     "data": {
      "text/html": [
       "<div>\n",
       "<style scoped>\n",
       "    .dataframe tbody tr th:only-of-type {\n",
       "        vertical-align: middle;\n",
       "    }\n",
       "\n",
       "    .dataframe tbody tr th {\n",
       "        vertical-align: top;\n",
       "    }\n",
       "\n",
       "    .dataframe thead th {\n",
       "        text-align: right;\n",
       "    }\n",
       "</style>\n",
       "<table border=\"1\" class=\"dataframe\">\n",
       "  <thead>\n",
       "    <tr style=\"text-align: right;\">\n",
       "      <th></th>\n",
       "      <th>event</th>\n",
       "    </tr>\n",
       "    <tr>\n",
       "      <th>platform</th>\n",
       "      <th></th>\n",
       "    </tr>\n",
       "  </thead>\n",
       "  <tbody>\n",
       "    <tr>\n",
       "      <th>android</th>\n",
       "      <td>500356</td>\n",
       "    </tr>\n",
       "    <tr>\n",
       "      <th>ios</th>\n",
       "      <td>299979</td>\n",
       "    </tr>\n",
       "    <tr>\n",
       "      <th>web</th>\n",
       "      <td>199665</td>\n",
       "    </tr>\n",
       "  </tbody>\n",
       "</table>\n",
       "</div>"
      ],
      "text/plain": [
       "           event\n",
       "platform        \n",
       "android   500356\n",
       "ios       299979\n",
       "web       199665"
      ]
     },
     "execution_count": 58,
     "metadata": {},
     "output_type": "execute_result"
    }
   ],
   "source": [
    "ads_df.groupby('platform').agg({'event': 'count'})"
   ]
  },
  {
   "cell_type": "code",
   "execution_count": 23,
   "id": "56d7b840",
   "metadata": {},
   "outputs": [
    {
     "data": {
      "text/html": [
       "<div>\n",
       "<style scoped>\n",
       "    .dataframe tbody tr th:only-of-type {\n",
       "        vertical-align: middle;\n",
       "    }\n",
       "\n",
       "    .dataframe tbody tr th {\n",
       "        vertical-align: top;\n",
       "    }\n",
       "\n",
       "    .dataframe thead th {\n",
       "        text-align: right;\n",
       "    }\n",
       "</style>\n",
       "<table border=\"1\" class=\"dataframe\">\n",
       "  <thead>\n",
       "    <tr style=\"text-align: right;\">\n",
       "      <th></th>\n",
       "      <th>date</th>\n",
       "      <th>client_union_id</th>\n",
       "      <th>community_id</th>\n",
       "      <th>create_date</th>\n",
       "    </tr>\n",
       "  </thead>\n",
       "  <tbody>\n",
       "    <tr>\n",
       "      <th>0</th>\n",
       "      <td>2020-05-07</td>\n",
       "      <td>1</td>\n",
       "      <td>-130371893</td>\n",
       "      <td>2018-12-24</td>\n",
       "    </tr>\n",
       "    <tr>\n",
       "      <th>1</th>\n",
       "      <td>2020-05-07</td>\n",
       "      <td>2</td>\n",
       "      <td>-130304626</td>\n",
       "      <td>2019-02-10</td>\n",
       "    </tr>\n",
       "    <tr>\n",
       "      <th>2</th>\n",
       "      <td>2020-05-07</td>\n",
       "      <td>3</td>\n",
       "      <td>-130462599</td>\n",
       "      <td>2019-01-25</td>\n",
       "    </tr>\n",
       "    <tr>\n",
       "      <th>3</th>\n",
       "      <td>2020-05-07</td>\n",
       "      <td>4</td>\n",
       "      <td>-130574300</td>\n",
       "      <td>2018-12-09</td>\n",
       "    </tr>\n",
       "    <tr>\n",
       "      <th>4</th>\n",
       "      <td>2020-05-07</td>\n",
       "      <td>5</td>\n",
       "      <td>-130292358</td>\n",
       "      <td>2019-01-08</td>\n",
       "    </tr>\n",
       "    <tr>\n",
       "      <th>...</th>\n",
       "      <td>...</td>\n",
       "      <td>...</td>\n",
       "      <td>...</td>\n",
       "      <td>...</td>\n",
       "    </tr>\n",
       "    <tr>\n",
       "      <th>122073</th>\n",
       "      <td>2020-05-07</td>\n",
       "      <td>122074</td>\n",
       "      <td>-130470790</td>\n",
       "      <td>2018-12-21</td>\n",
       "    </tr>\n",
       "    <tr>\n",
       "      <th>122074</th>\n",
       "      <td>2020-05-07</td>\n",
       "      <td>122075</td>\n",
       "      <td>-130911261</td>\n",
       "      <td>2018-11-09</td>\n",
       "    </tr>\n",
       "    <tr>\n",
       "      <th>122075</th>\n",
       "      <td>2020-05-07</td>\n",
       "      <td>122076</td>\n",
       "      <td>-130494912</td>\n",
       "      <td>2018-10-27</td>\n",
       "    </tr>\n",
       "    <tr>\n",
       "      <th>122076</th>\n",
       "      <td>2020-05-07</td>\n",
       "      <td>122077</td>\n",
       "      <td>-130910585</td>\n",
       "      <td>2018-12-05</td>\n",
       "    </tr>\n",
       "    <tr>\n",
       "      <th>122077</th>\n",
       "      <td>2020-05-07</td>\n",
       "      <td>122078</td>\n",
       "      <td>-130558729</td>\n",
       "      <td>2019-01-22</td>\n",
       "    </tr>\n",
       "  </tbody>\n",
       "</table>\n",
       "<p>122078 rows × 4 columns</p>\n",
       "</div>"
      ],
      "text/plain": [
       "             date  client_union_id  community_id create_date\n",
       "0      2020-05-07                1    -130371893  2018-12-24\n",
       "1      2020-05-07                2    -130304626  2019-02-10\n",
       "2      2020-05-07                3    -130462599  2019-01-25\n",
       "3      2020-05-07                4    -130574300  2018-12-09\n",
       "4      2020-05-07                5    -130292358  2019-01-08\n",
       "...           ...              ...           ...         ...\n",
       "122073 2020-05-07           122074    -130470790  2018-12-21\n",
       "122074 2020-05-07           122075    -130911261  2018-11-09\n",
       "122075 2020-05-07           122076    -130494912  2018-10-27\n",
       "122076 2020-05-07           122077    -130910585  2018-12-05\n",
       "122077 2020-05-07           122078    -130558729  2019-01-22\n",
       "\n",
       "[122078 rows x 4 columns]"
      ]
     },
     "execution_count": 23,
     "metadata": {},
     "output_type": "execute_result"
    }
   ],
   "source": [
    "client_df = pd.read_csv('ads_clients_data.csv', parse_dates=['date', 'create_date'])\n",
    "client_df"
   ]
  },
  {
   "cell_type": "markdown",
   "id": "bdaae153",
   "metadata": {},
   "source": [
    "# Основные рекламные метрики"
   ]
  },
  {
   "cell_type": "code",
   "execution_count": 24,
   "id": "cfda208d",
   "metadata": {},
   "outputs": [
    {
     "data": {
      "text/plain": [
       "array(['CPM', 'CPC'], dtype=object)"
      ]
     },
     "execution_count": 24,
     "metadata": {},
     "output_type": "execute_result"
    }
   ],
   "source": [
    "ads_df.ad_cost_type.unique()"
   ]
  },
  {
   "cell_type": "markdown",
   "id": "34d4a209",
   "metadata": {},
   "source": [
    "### Доход CPC и CPM"
   ]
  },
  {
   "cell_type": "markdown",
   "id": "49c3c26e",
   "metadata": {},
   "source": [
    "У нас имеется два вида оплаты рекламы: \n",
    "\n",
    "**CPC (Cost Per Click)** - стоимость одного клика (ad_cost соответственно стоимость клика)\n",
    "\n",
    "**CPM (Cost per mille)** - стоимость 1000 показов рекламного баннера (ad_cost стоимость 1000 показов)"
   ]
  },
  {
   "cell_type": "code",
   "execution_count": 25,
   "id": "a3c8fede",
   "metadata": {},
   "outputs": [],
   "source": [
    "# Поле доход\n",
    "ads_df['income_CPM'] = ads_df.query('ad_cost_type == \"CPM\" & event == \"view\"').ad_cost / 1000\n",
    "ads_df['income_CPC'] = ads_df.query('ad_cost_type == \"CPC\" & event == \"click\"').ad_cost"
   ]
  },
  {
   "cell_type": "code",
   "execution_count": 26,
   "id": "0b8842a4",
   "metadata": {},
   "outputs": [
    {
     "data": {
      "text/html": [
       "<div>\n",
       "<style scoped>\n",
       "    .dataframe tbody tr th:only-of-type {\n",
       "        vertical-align: middle;\n",
       "    }\n",
       "\n",
       "    .dataframe tbody tr th {\n",
       "        vertical-align: top;\n",
       "    }\n",
       "\n",
       "    .dataframe thead th {\n",
       "        text-align: right;\n",
       "    }\n",
       "</style>\n",
       "<table border=\"1\" class=\"dataframe\">\n",
       "  <thead>\n",
       "    <tr style=\"text-align: right;\">\n",
       "      <th></th>\n",
       "      <th>date</th>\n",
       "      <th>time</th>\n",
       "      <th>event</th>\n",
       "      <th>platform</th>\n",
       "      <th>ad_id</th>\n",
       "      <th>client_union_id</th>\n",
       "      <th>campaign_union_id</th>\n",
       "      <th>ad_cost_type</th>\n",
       "      <th>ad_cost</th>\n",
       "      <th>has_video</th>\n",
       "      <th>target_audience_count</th>\n",
       "      <th>income_CPM</th>\n",
       "      <th>income_CPC</th>\n",
       "    </tr>\n",
       "  </thead>\n",
       "  <tbody>\n",
       "    <tr>\n",
       "      <th>0</th>\n",
       "      <td>2019-04-01</td>\n",
       "      <td>2019-04-01 00:00:48</td>\n",
       "      <td>view</td>\n",
       "      <td>android</td>\n",
       "      <td>45061</td>\n",
       "      <td>34734</td>\n",
       "      <td>45061</td>\n",
       "      <td>CPM</td>\n",
       "      <td>200.6</td>\n",
       "      <td>0</td>\n",
       "      <td>1955269</td>\n",
       "      <td>0.2006</td>\n",
       "      <td>NaN</td>\n",
       "    </tr>\n",
       "    <tr>\n",
       "      <th>1</th>\n",
       "      <td>2019-04-01</td>\n",
       "      <td>2019-04-01 00:00:48</td>\n",
       "      <td>view</td>\n",
       "      <td>web</td>\n",
       "      <td>121288</td>\n",
       "      <td>121288</td>\n",
       "      <td>121288</td>\n",
       "      <td>CPM</td>\n",
       "      <td>187.4</td>\n",
       "      <td>0</td>\n",
       "      <td>232011</td>\n",
       "      <td>0.1874</td>\n",
       "      <td>NaN</td>\n",
       "    </tr>\n",
       "    <tr>\n",
       "      <th>2</th>\n",
       "      <td>2019-04-01</td>\n",
       "      <td>2019-04-01 00:01:03</td>\n",
       "      <td>view</td>\n",
       "      <td>android</td>\n",
       "      <td>102737</td>\n",
       "      <td>102535</td>\n",
       "      <td>102564</td>\n",
       "      <td>CPC</td>\n",
       "      <td>60.7</td>\n",
       "      <td>0</td>\n",
       "      <td>4410</td>\n",
       "      <td>NaN</td>\n",
       "      <td>NaN</td>\n",
       "    </tr>\n",
       "  </tbody>\n",
       "</table>\n",
       "</div>"
      ],
      "text/plain": [
       "        date                time event platform   ad_id  client_union_id  \\\n",
       "0 2019-04-01 2019-04-01 00:00:48  view  android   45061            34734   \n",
       "1 2019-04-01 2019-04-01 00:00:48  view      web  121288           121288   \n",
       "2 2019-04-01 2019-04-01 00:01:03  view  android  102737           102535   \n",
       "\n",
       "   campaign_union_id ad_cost_type  ad_cost  has_video  target_audience_count  \\\n",
       "0              45061          CPM    200.6          0                1955269   \n",
       "1             121288          CPM    187.4          0                 232011   \n",
       "2             102564          CPC     60.7          0                   4410   \n",
       "\n",
       "   income_CPM  income_CPC  \n",
       "0      0.2006         NaN  \n",
       "1      0.1874         NaN  \n",
       "2         NaN         NaN  "
      ]
     },
     "execution_count": 26,
     "metadata": {},
     "output_type": "execute_result"
    }
   ],
   "source": [
    "ads_df.head(3)"
   ]
  },
  {
   "cell_type": "code",
   "execution_count": 27,
   "id": "7aecebc9",
   "metadata": {},
   "outputs": [
    {
     "data": {
      "text/html": [
       "<div>\n",
       "<style scoped>\n",
       "    .dataframe tbody tr th:only-of-type {\n",
       "        vertical-align: middle;\n",
       "    }\n",
       "\n",
       "    .dataframe tbody tr th {\n",
       "        vertical-align: top;\n",
       "    }\n",
       "\n",
       "    .dataframe thead th {\n",
       "        text-align: right;\n",
       "    }\n",
       "</style>\n",
       "<table border=\"1\" class=\"dataframe\">\n",
       "  <thead>\n",
       "    <tr style=\"text-align: right;\">\n",
       "      <th></th>\n",
       "      <th>income_CPM</th>\n",
       "      <th>income_CPC</th>\n",
       "    </tr>\n",
       "    <tr>\n",
       "      <th>date</th>\n",
       "      <th></th>\n",
       "      <th></th>\n",
       "    </tr>\n",
       "  </thead>\n",
       "  <tbody>\n",
       "    <tr>\n",
       "      <th>2019-04-01</th>\n",
       "      <td>3334.6072</td>\n",
       "      <td>3321.1</td>\n",
       "    </tr>\n",
       "    <tr>\n",
       "      <th>2019-04-02</th>\n",
       "      <td>7291.3902</td>\n",
       "      <td>5994.4</td>\n",
       "    </tr>\n",
       "    <tr>\n",
       "      <th>2019-04-03</th>\n",
       "      <td>9968.0569</td>\n",
       "      <td>4177.9</td>\n",
       "    </tr>\n",
       "    <tr>\n",
       "      <th>2019-04-04</th>\n",
       "      <td>51471.5011</td>\n",
       "      <td>3517.3</td>\n",
       "    </tr>\n",
       "    <tr>\n",
       "      <th>2019-04-05</th>\n",
       "      <td>86676.9217</td>\n",
       "      <td>9446.2</td>\n",
       "    </tr>\n",
       "    <tr>\n",
       "      <th>2019-04-06</th>\n",
       "      <td>12492.5308</td>\n",
       "      <td>854.4</td>\n",
       "    </tr>\n",
       "  </tbody>\n",
       "</table>\n",
       "</div>"
      ],
      "text/plain": [
       "            income_CPM  income_CPC\n",
       "date                              \n",
       "2019-04-01   3334.6072      3321.1\n",
       "2019-04-02   7291.3902      5994.4\n",
       "2019-04-03   9968.0569      4177.9\n",
       "2019-04-04  51471.5011      3517.3\n",
       "2019-04-05  86676.9217      9446.2\n",
       "2019-04-06  12492.5308       854.4"
      ]
     },
     "execution_count": 27,
     "metadata": {},
     "output_type": "execute_result"
    }
   ],
   "source": [
    "# Доход по дням\n",
    "income_by_day = ads_df.groupby('date').agg({'income_CPM': 'sum',\n",
    "                                            'income_CPC': 'sum'})\n",
    "income_by_day"
   ]
  },
  {
   "cell_type": "code",
   "execution_count": 28,
   "id": "f30d400b",
   "metadata": {},
   "outputs": [
    {
     "data": {
      "text/plain": [
       "<matplotlib.legend.Legend at 0x1c4d480c460>"
      ]
     },
     "execution_count": 28,
     "metadata": {},
     "output_type": "execute_result"
    },
    {
     "data": {
      "image/png": "[encoded data removed]",
      "text/plain": [
       "<Figure size 1008x432 with 1 Axes>"
      ]
     },
     "metadata": {},
     "output_type": "display_data"
    }
   ],
   "source": [
    "lp = sns.lineplot(data=income_by_day)\n",
    "sets_for_plot(lp, title='Дохот от типов реклам', xlabel='Доход', ylabel='Дата')\n",
    "lp.legend(['CPM', 'CPC'])"
   ]
  },
  {
   "cell_type": "markdown",
   "id": "76277fd3",
   "metadata": {},
   "source": [
    "### CTR  "
   ]
  },
  {
   "cell_type": "markdown",
   "id": "bf2cba0b",
   "metadata": {},
   "source": [
    "**CTR (Click-through rate)** – конверсия рекламы, то есть отношение числа кликов к числу показов."
   ]
  },
  {
   "cell_type": "code",
   "execution_count": 29,
   "id": "d656cad5",
   "metadata": {},
   "outputs": [
    {
     "data": {
      "text/html": [
       "<div>\n",
       "<style scoped>\n",
       "    .dataframe tbody tr th:only-of-type {\n",
       "        vertical-align: middle;\n",
       "    }\n",
       "\n",
       "    .dataframe tbody tr th {\n",
       "        vertical-align: top;\n",
       "    }\n",
       "\n",
       "    .dataframe thead th {\n",
       "        text-align: right;\n",
       "    }\n",
       "</style>\n",
       "<table border=\"1\" class=\"dataframe\">\n",
       "  <thead>\n",
       "    <tr style=\"text-align: right;\">\n",
       "      <th>event</th>\n",
       "      <th>click</th>\n",
       "      <th>view</th>\n",
       "      <th>ctr</th>\n",
       "    </tr>\n",
       "    <tr>\n",
       "      <th>ad_id</th>\n",
       "      <th></th>\n",
       "      <th></th>\n",
       "      <th></th>\n",
       "    </tr>\n",
       "  </thead>\n",
       "  <tbody>\n",
       "    <tr>\n",
       "      <th>2</th>\n",
       "      <td>1</td>\n",
       "      <td>101</td>\n",
       "      <td>0.990099</td>\n",
       "    </tr>\n",
       "    <tr>\n",
       "      <th>3</th>\n",
       "      <td>3</td>\n",
       "      <td>184</td>\n",
       "      <td>1.630435</td>\n",
       "    </tr>\n",
       "    <tr>\n",
       "      <th>1902</th>\n",
       "      <td>1</td>\n",
       "      <td>41</td>\n",
       "      <td>2.439024</td>\n",
       "    </tr>\n",
       "    <tr>\n",
       "      <th>2064</th>\n",
       "      <td>0</td>\n",
       "      <td>35</td>\n",
       "      <td>0.000000</td>\n",
       "    </tr>\n",
       "    <tr>\n",
       "      <th>2132</th>\n",
       "      <td>1</td>\n",
       "      <td>58</td>\n",
       "      <td>1.724138</td>\n",
       "    </tr>\n",
       "    <tr>\n",
       "      <th>...</th>\n",
       "      <td>...</td>\n",
       "      <td>...</td>\n",
       "      <td>...</td>\n",
       "    </tr>\n",
       "    <tr>\n",
       "      <th>122004</th>\n",
       "      <td>4</td>\n",
       "      <td>100</td>\n",
       "      <td>4.000000</td>\n",
       "    </tr>\n",
       "    <tr>\n",
       "      <th>122013</th>\n",
       "      <td>0</td>\n",
       "      <td>156</td>\n",
       "      <td>0.000000</td>\n",
       "    </tr>\n",
       "    <tr>\n",
       "      <th>122023</th>\n",
       "      <td>0</td>\n",
       "      <td>68</td>\n",
       "      <td>0.000000</td>\n",
       "    </tr>\n",
       "    <tr>\n",
       "      <th>122031</th>\n",
       "      <td>1</td>\n",
       "      <td>138</td>\n",
       "      <td>0.724638</td>\n",
       "    </tr>\n",
       "    <tr>\n",
       "      <th>122078</th>\n",
       "      <td>0</td>\n",
       "      <td>42</td>\n",
       "      <td>0.000000</td>\n",
       "    </tr>\n",
       "  </tbody>\n",
       "</table>\n",
       "<p>965 rows × 3 columns</p>\n",
       "</div>"
      ],
      "text/plain": [
       "event   click  view       ctr\n",
       "ad_id                        \n",
       "2           1   101  0.990099\n",
       "3           3   184  1.630435\n",
       "1902        1    41  2.439024\n",
       "2064        0    35  0.000000\n",
       "2132        1    58  1.724138\n",
       "...       ...   ...       ...\n",
       "122004      4   100  4.000000\n",
       "122013      0   156  0.000000\n",
       "122023      0    68  0.000000\n",
       "122031      1   138  0.724638\n",
       "122078      0    42  0.000000\n",
       "\n",
       "[965 rows x 3 columns]"
      ]
     },
     "execution_count": 29,
     "metadata": {},
     "output_type": "execute_result"
    }
   ],
   "source": [
    "# Создаем группировку по всем рекламам и рассчитаем CTR\n",
    "amounts_by_events =  ads_df.pivot_table(columns='event', \n",
    "                                        index='ad_id',\n",
    "                                        values='client_union_id',\n",
    "                                        aggfunc='count',\n",
    "                                        fill_value=0)\n",
    "                                \n",
    "amounts_by_events['ctr'] = amounts_by_events.click / amounts_by_events.view * 100\n",
    "amounts_by_events"
   ]
  },
  {
   "cell_type": "markdown",
   "id": "c6ff2377",
   "metadata": {},
   "source": [
    "Также есть метрика CR\n",
    "\n",
    "**CR (Conversion Rate)** - количественное соотношение пользователей сайта, которые совершили целевое действие, к общему числу пользователей.\n",
    "\n",
    "Например, какая часть пользователей, которые перешли на страницу приложения по рекламе, потом скачали приложение"
   ]
  },
  {
   "cell_type": "markdown",
   "id": "31469526",
   "metadata": {},
   "source": [
    "### Конверсия клиентов, которые пришли в компанию и запустили первую рекламу в течении 365 дней"
   ]
  },
  {
   "cell_type": "code",
   "execution_count": 30,
   "id": "4c68c1b2",
   "metadata": {},
   "outputs": [
    {
     "data": {
      "text/html": [
       "<div>\n",
       "<style scoped>\n",
       "    .dataframe tbody tr th:only-of-type {\n",
       "        vertical-align: middle;\n",
       "    }\n",
       "\n",
       "    .dataframe tbody tr th {\n",
       "        vertical-align: top;\n",
       "    }\n",
       "\n",
       "    .dataframe thead th {\n",
       "        text-align: right;\n",
       "    }\n",
       "</style>\n",
       "<table border=\"1\" class=\"dataframe\">\n",
       "  <thead>\n",
       "    <tr style=\"text-align: right;\">\n",
       "      <th></th>\n",
       "      <th>date_first_ad</th>\n",
       "      <th>create_date</th>\n",
       "    </tr>\n",
       "    <tr>\n",
       "      <th>client_union_id</th>\n",
       "      <th></th>\n",
       "      <th></th>\n",
       "    </tr>\n",
       "  </thead>\n",
       "  <tbody>\n",
       "    <tr>\n",
       "      <th>1</th>\n",
       "      <td>2019-04-01</td>\n",
       "      <td>2018-12-24</td>\n",
       "    </tr>\n",
       "    <tr>\n",
       "      <th>2</th>\n",
       "      <td>NaT</td>\n",
       "      <td>2019-02-10</td>\n",
       "    </tr>\n",
       "    <tr>\n",
       "      <th>3</th>\n",
       "      <td>NaT</td>\n",
       "      <td>2019-01-25</td>\n",
       "    </tr>\n",
       "    <tr>\n",
       "      <th>4</th>\n",
       "      <td>NaT</td>\n",
       "      <td>2018-12-09</td>\n",
       "    </tr>\n",
       "    <tr>\n",
       "      <th>5</th>\n",
       "      <td>NaT</td>\n",
       "      <td>2019-01-08</td>\n",
       "    </tr>\n",
       "    <tr>\n",
       "      <th>...</th>\n",
       "      <td>...</td>\n",
       "      <td>...</td>\n",
       "    </tr>\n",
       "    <tr>\n",
       "      <th>122074</th>\n",
       "      <td>NaT</td>\n",
       "      <td>2018-12-21</td>\n",
       "    </tr>\n",
       "    <tr>\n",
       "      <th>122075</th>\n",
       "      <td>NaT</td>\n",
       "      <td>2018-11-09</td>\n",
       "    </tr>\n",
       "    <tr>\n",
       "      <th>122076</th>\n",
       "      <td>NaT</td>\n",
       "      <td>2018-10-27</td>\n",
       "    </tr>\n",
       "    <tr>\n",
       "      <th>122077</th>\n",
       "      <td>NaT</td>\n",
       "      <td>2018-12-05</td>\n",
       "    </tr>\n",
       "    <tr>\n",
       "      <th>122078</th>\n",
       "      <td>2019-04-03</td>\n",
       "      <td>2019-01-22</td>\n",
       "    </tr>\n",
       "  </tbody>\n",
       "</table>\n",
       "<p>122078 rows × 2 columns</p>\n",
       "</div>"
      ],
      "text/plain": [
       "                date_first_ad create_date\n",
       "client_union_id                          \n",
       "1                  2019-04-01  2018-12-24\n",
       "2                         NaT  2019-02-10\n",
       "3                         NaT  2019-01-25\n",
       "4                         NaT  2018-12-09\n",
       "5                         NaT  2019-01-08\n",
       "...                       ...         ...\n",
       "122074                    NaT  2018-12-21\n",
       "122075                    NaT  2018-11-09\n",
       "122076                    NaT  2018-10-27\n",
       "122077                    NaT  2018-12-05\n",
       "122078             2019-04-03  2019-01-22\n",
       "\n",
       "[122078 rows x 2 columns]"
      ]
     },
     "execution_count": 30,
     "metadata": {},
     "output_type": "execute_result"
    }
   ],
   "source": [
    "# Создадим таблицу с информацией о первой рекламе клиента и дате создания клиента\n",
    "clients_first_ad = ads_df.groupby('client_union_id')\\\n",
    "                        .agg({'date': 'min'}) \\\n",
    "                        .rename(columns={'date': 'date_first_ad'}) \\\n",
    "                        .merge(client_df[['client_union_id','create_date']], left_index=True, \n",
    "                               right_on='client_union_id', how='right') \\\n",
    "                        .set_index('client_union_id')\n",
    "clients_first_ad"
   ]
  },
  {
   "cell_type": "code",
   "execution_count": 31,
   "id": "ac4918fa",
   "metadata": {},
   "outputs": [
    {
     "data": {
      "text/plain": [
       "Timedelta('365 days 00:00:00')"
      ]
     },
     "execution_count": 31,
     "metadata": {},
     "output_type": "execute_result"
    }
   ],
   "source": [
    "# Порог в 365 дней\n",
    "treshold = pd.to_timedelta(365, unit='d')\n",
    "treshold"
   ]
  },
  {
   "cell_type": "code",
   "execution_count": 32,
   "id": "62a8d951",
   "metadata": {},
   "outputs": [],
   "source": [
    "# Определим клиентов с рекламой в течении года\n",
    "clients_first_ad['ad_during_year'] = clients_first_ad.date_first_ad < (clients_first_ad.create_date + treshold)"
   ]
  },
  {
   "cell_type": "code",
   "execution_count": 33,
   "id": "ad60473a",
   "metadata": {},
   "outputs": [
    {
     "name": "stdout",
     "output_type": "stream",
     "text": [
      "Конверсия клиентов с первуй рекламой в течении 365 дней: 0.69\n"
     ]
    }
   ],
   "source": [
    "# Конверсия \n",
    "rate = clients_first_ad.ad_during_year.value_counts(normalize=True)[1] * 100\n",
    "print('Конверсия клиентов с первуй рекламой в течении 365 дней:', round(rate, 2))"
   ]
  },
  {
   "cell_type": "code",
   "execution_count": 34,
   "id": "d447bb17",
   "metadata": {},
   "outputs": [
    {
     "data": {
      "text/plain": [
       "True    838\n",
       "Name: ad_during_year, dtype: int64"
      ]
     },
     "execution_count": 34,
     "metadata": {},
     "output_type": "execute_result"
    }
   ],
   "source": [
    "# Клиенты создавшие рекламу\n",
    "clients_first_ad[clients_first_ad.date_first_ad.notnull()].ad_during_year.value_counts()"
   ]
  },
  {
   "cell_type": "markdown",
   "id": "b8ca0673",
   "metadata": {},
   "source": [
    "Как видим все клиенты, запустившие хоть одну рекламу сделали это в течении 365 дней. \n",
    "\n",
    "Конверсия к общему числу клиентов составляет 0.69%"
   ]
  },
  {
   "cell_type": "markdown",
   "id": "93c76613",
   "metadata": {},
   "source": [
    "# Ad-hoc запросы"
   ]
  },
  {
   "cell_type": "markdown",
   "id": "286b6c42",
   "metadata": {},
   "source": [
    "### Среднее количество показов и среднее количество кликов на объявления за весь период."
   ]
  },
  {
   "cell_type": "code",
   "execution_count": 35,
   "id": "86b465ad",
   "metadata": {},
   "outputs": [
    {
     "name": "stdout",
     "output_type": "stream",
     "text": [
      "Среднее число показов:  923.0\n",
      "Среднее число кликов:  113.0\n"
     ]
    }
   ],
   "source": [
    "print('Среднее число показов: ', amounts_by_events.view.mean().round())\n",
    "print('Среднее число кликов: ', amounts_by_events.click.mean().round())"
   ]
  },
  {
   "cell_type": "markdown",
   "id": "1e33d952",
   "metadata": {},
   "source": [
    "### Распределение показов на объявление за весь период.\n"
   ]
  },
  {
   "cell_type": "code",
   "execution_count": 36,
   "id": "26941416",
   "metadata": {},
   "outputs": [
    {
     "data": {
      "image/png": "[encoded data removed]",
      "text/plain": [
       "<Figure size 1008x432 with 1 Axes>"
      ]
     },
     "metadata": {},
     "output_type": "display_data"
    }
   ],
   "source": [
    "hp = sns.histplot(data=amounts_by_events.view)\n",
    "sets_for_plot(hp, title='Распределение числа показов', xlabel='Показов')"
   ]
  },
  {
   "cell_type": "code",
   "execution_count": 37,
   "id": "3ab2f584",
   "metadata": {},
   "outputs": [
    {
     "data": {
      "text/plain": [
       "count       965.000000\n",
       "mean        923.131606\n",
       "std       12945.945595\n",
       "min           0.000000\n",
       "25%          35.000000\n",
       "50%          82.000000\n",
       "75%         208.000000\n",
       "max      351802.000000\n",
       "Name: view, dtype: float64"
      ]
     },
     "execution_count": 37,
     "metadata": {},
     "output_type": "execute_result"
    }
   ],
   "source": [
    "# Проверка выброса максимального значения\n",
    "amounts_by_events.view.describe()"
   ]
  },
  {
   "cell_type": "markdown",
   "id": "140ed074",
   "metadata": {},
   "source": [
    "Распределение абсолютно ненаглядное, т.к. имеются выбросы максимального значения"
   ]
  },
  {
   "cell_type": "code",
   "execution_count": 38,
   "id": "f71838cb",
   "metadata": {},
   "outputs": [
    {
     "data": {
      "image/png": "[encoded data removed]",
      "text/plain": [
       "<Figure size 1008x432 with 1 Axes>"
      ]
     },
     "metadata": {},
     "output_type": "display_data"
    }
   ],
   "source": [
    "# Логарифмируем данные, чтобы пронаблюдать тенденцию\n",
    "hp = sns.histplot(data=np.log(amounts_by_events.view), kde=True)\n",
    "sets_for_plot(hp, title='Распределение логарифма числа показов', xlabel='Показов')"
   ]
  },
  {
   "cell_type": "markdown",
   "id": "00b729f3",
   "metadata": {},
   "source": [
    "### Среднее количество дней от даты создания рекламного клиента и первым запуском рекламного объявления этим клиентом."
   ]
  },
  {
   "cell_type": "code",
   "execution_count": 39,
   "id": "e188630d",
   "metadata": {},
   "outputs": [
    {
     "data": {
      "text/plain": [
       "client_union_id\n",
       "1         98 days\n",
       "9        114 days\n",
       "13        66 days\n",
       "16       105 days\n",
       "20        32 days\n",
       "           ...   \n",
       "122004    67 days\n",
       "122013   151 days\n",
       "122023   126 days\n",
       "122031    96 days\n",
       "122078    71 days\n",
       "Length: 838, dtype: timedelta64[ns]"
      ]
     },
     "execution_count": 39,
     "metadata": {},
     "output_type": "execute_result"
    }
   ],
   "source": [
    "# Для всех клиентов запустивших рекламу найдем разницу в днях\n",
    "difference_from_first_ad = clients_first_ad[clients_first_ad.date_first_ad.notnull()]\n",
    "difference_from_first_ad = difference_from_first_ad.date_first_ad - difference_from_first_ad.create_date\n",
    "difference_from_first_ad"
   ]
  },
  {
   "cell_type": "code",
   "execution_count": 40,
   "id": "854a919f",
   "metadata": {},
   "outputs": [
    {
     "name": "stdout",
     "output_type": "stream",
     "text": [
      "Среднее число дней до создания 1 рекламы: 124\n"
     ]
    }
   ],
   "source": [
    "print('Среднее число дней до создания 1 рекламы:', difference_from_first_ad.mean().days)"
   ]
  },
  {
   "cell_type": "markdown",
   "id": "d036b10b",
   "metadata": {},
   "source": [
    "### Разбить клиентов по промежуткам от создания до запуска рекламного объявления, равными [0, 30, 90, 180, 365] дней\n"
   ]
  },
  {
   "cell_type": "code",
   "execution_count": 41,
   "id": "2c8f9387",
   "metadata": {},
   "outputs": [],
   "source": [
    "bins=pd.to_timedelta([0, 30, 90, 180, 365], unit='d')\n"
   ]
  },
  {
   "cell_type": "code",
   "execution_count": 42,
   "id": "2be6825b",
   "metadata": {},
   "outputs": [
    {
     "data": {
      "text/plain": [
       "0-30        11\n",
       "30-90      263\n",
       "90-180     396\n",
       "180-365    168\n",
       "dtype: int64"
      ]
     },
     "execution_count": 42,
     "metadata": {},
     "output_type": "execute_result"
    }
   ],
   "source": [
    "pd.cut(difference_from_first_ad, bins=bins, labels=['0-30', '30-90', '90-180', '180-365']) \\\n",
    "                                    .value_counts() \\\n",
    "                                    .sort_index()"
   ]
  },
  {
   "cell_type": "markdown",
   "id": "9d6b023a",
   "metadata": {},
   "source": [
    "### Сколько объявлений имеют баг: есть клики, но нет показов\n",
    "Сколько их?\n",
    "Для каких платформ это актуально?"
   ]
  },
  {
   "cell_type": "code",
   "execution_count": 43,
   "id": "835e207f",
   "metadata": {},
   "outputs": [
    {
     "data": {
      "text/html": [
       "<div>\n",
       "<style scoped>\n",
       "    .dataframe tbody tr th:only-of-type {\n",
       "        vertical-align: middle;\n",
       "    }\n",
       "\n",
       "    .dataframe tbody tr th {\n",
       "        vertical-align: top;\n",
       "    }\n",
       "\n",
       "    .dataframe thead th {\n",
       "        text-align: right;\n",
       "    }\n",
       "</style>\n",
       "<table border=\"1\" class=\"dataframe\">\n",
       "  <thead>\n",
       "    <tr style=\"text-align: right;\">\n",
       "      <th>event</th>\n",
       "      <th>click</th>\n",
       "      <th>view</th>\n",
       "      <th>ctr</th>\n",
       "    </tr>\n",
       "    <tr>\n",
       "      <th>ad_id</th>\n",
       "      <th></th>\n",
       "      <th></th>\n",
       "      <th></th>\n",
       "    </tr>\n",
       "  </thead>\n",
       "  <tbody>\n",
       "    <tr>\n",
       "      <th>19223</th>\n",
       "      <td>7</td>\n",
       "      <td>0</td>\n",
       "      <td>inf</td>\n",
       "    </tr>\n",
       "    <tr>\n",
       "      <th>26204</th>\n",
       "      <td>6</td>\n",
       "      <td>0</td>\n",
       "      <td>inf</td>\n",
       "    </tr>\n",
       "    <tr>\n",
       "      <th>41500</th>\n",
       "      <td>20</td>\n",
       "      <td>0</td>\n",
       "      <td>inf</td>\n",
       "    </tr>\n",
       "    <tr>\n",
       "      <th>45418</th>\n",
       "      <td>3</td>\n",
       "      <td>0</td>\n",
       "      <td>inf</td>\n",
       "    </tr>\n",
       "    <tr>\n",
       "      <th>115825</th>\n",
       "      <td>4</td>\n",
       "      <td>0</td>\n",
       "      <td>inf</td>\n",
       "    </tr>\n",
       "    <tr>\n",
       "      <th>117364</th>\n",
       "      <td>7</td>\n",
       "      <td>0</td>\n",
       "      <td>inf</td>\n",
       "    </tr>\n",
       "    <tr>\n",
       "      <th>120431</th>\n",
       "      <td>35</td>\n",
       "      <td>0</td>\n",
       "      <td>inf</td>\n",
       "    </tr>\n",
       "    <tr>\n",
       "      <th>120536</th>\n",
       "      <td>6</td>\n",
       "      <td>0</td>\n",
       "      <td>inf</td>\n",
       "    </tr>\n",
       "    <tr>\n",
       "      <th>120796</th>\n",
       "      <td>1</td>\n",
       "      <td>0</td>\n",
       "      <td>inf</td>\n",
       "    </tr>\n",
       "  </tbody>\n",
       "</table>\n",
       "</div>"
      ],
      "text/plain": [
       "event   click  view  ctr\n",
       "ad_id                   \n",
       "19223       7     0  inf\n",
       "26204       6     0  inf\n",
       "41500      20     0  inf\n",
       "45418       3     0  inf\n",
       "115825      4     0  inf\n",
       "117364      7     0  inf\n",
       "120431     35     0  inf\n",
       "120536      6     0  inf\n",
       "120796      1     0  inf"
      ]
     },
     "execution_count": 43,
     "metadata": {},
     "output_type": "execute_result"
    }
   ],
   "source": [
    "# События, у которых нет показов\n",
    "ad_without_views = amounts_by_events.query('view == 0')\n",
    "ad_without_views"
   ]
  },
  {
   "cell_type": "code",
   "execution_count": 44,
   "id": "ece8b224",
   "metadata": {},
   "outputs": [
    {
     "name": "stdout",
     "output_type": "stream",
     "text": [
      "Наблюдений без показов всего: 9\n"
     ]
    }
   ],
   "source": [
    "print('Наблюдений без показов всего:', ad_without_views.shape[0])"
   ]
  },
  {
   "cell_type": "code",
   "execution_count": 45,
   "id": "15978aa1",
   "metadata": {},
   "outputs": [
    {
     "data": {
      "text/plain": [
       "android    52.808989\n",
       "ios        33.707865\n",
       "web        13.483146\n",
       "Name: platform, dtype: float64"
      ]
     },
     "execution_count": 45,
     "metadata": {},
     "output_type": "execute_result"
    }
   ],
   "source": [
    "# Процент по платформам для багованных объявлений\n",
    "ads_df[ads_df.ad_id.isin(ad_without_views.index)].platform.value_counts(normalize=True)*100"
   ]
  },
  {
   "cell_type": "code",
   "execution_count": 46,
   "id": "f613da2b",
   "metadata": {},
   "outputs": [
    {
     "data": {
      "text/plain": [
       "android    50.0356\n",
       "ios        29.9979\n",
       "web        19.9665\n",
       "Name: platform, dtype: float64"
      ]
     },
     "execution_count": 46,
     "metadata": {},
     "output_type": "execute_result"
    }
   ],
   "source": [
    "# Процент по платформам для всех объявлений\n",
    "ads_df.platform.value_counts(normalize=True)*100"
   ]
  },
  {
   "cell_type": "markdown",
   "id": "39edc924",
   "metadata": {},
   "source": [
    "Объявления с багом наблюдаются н авсех платформах, причем примерно в таком же соотношении, скорее всего баг вызван не выбором платформы"
   ]
  },
  {
   "cell_type": "markdown",
   "id": "d8462064",
   "metadata": {},
   "source": [
    "### Есть ли объявления, по которым сначала произошел клик , а потом показ"
   ]
  },
  {
   "cell_type": "code",
   "execution_count": 47,
   "id": "09382296",
   "metadata": {},
   "outputs": [
    {
     "data": {
      "text/html": [
       "<div>\n",
       "<style scoped>\n",
       "    .dataframe tbody tr th:only-of-type {\n",
       "        vertical-align: middle;\n",
       "    }\n",
       "\n",
       "    .dataframe tbody tr th {\n",
       "        vertical-align: top;\n",
       "    }\n",
       "\n",
       "    .dataframe thead th {\n",
       "        text-align: right;\n",
       "    }\n",
       "</style>\n",
       "<table border=\"1\" class=\"dataframe\">\n",
       "  <thead>\n",
       "    <tr style=\"text-align: right;\">\n",
       "      <th>event</th>\n",
       "      <th>click</th>\n",
       "      <th>view</th>\n",
       "    </tr>\n",
       "    <tr>\n",
       "      <th>ad_id</th>\n",
       "      <th></th>\n",
       "      <th></th>\n",
       "    </tr>\n",
       "  </thead>\n",
       "  <tbody>\n",
       "    <tr>\n",
       "      <th>2</th>\n",
       "      <td>2019-04-01 09:23:54</td>\n",
       "      <td>2019-04-01 00:59:41</td>\n",
       "    </tr>\n",
       "    <tr>\n",
       "      <th>3</th>\n",
       "      <td>2019-04-01 02:06:11</td>\n",
       "      <td>2019-04-01 00:08:51</td>\n",
       "    </tr>\n",
       "    <tr>\n",
       "      <th>1902</th>\n",
       "      <td>2019-04-03 15:20:14</td>\n",
       "      <td>2019-04-03 00:48:39</td>\n",
       "    </tr>\n",
       "    <tr>\n",
       "      <th>2064</th>\n",
       "      <td>NaT</td>\n",
       "      <td>2019-04-02 00:52:05</td>\n",
       "    </tr>\n",
       "    <tr>\n",
       "      <th>2132</th>\n",
       "      <td>2019-04-04 08:53:24</td>\n",
       "      <td>2019-04-03 02:01:56</td>\n",
       "    </tr>\n",
       "    <tr>\n",
       "      <th>...</th>\n",
       "      <td>...</td>\n",
       "      <td>...</td>\n",
       "    </tr>\n",
       "    <tr>\n",
       "      <th>122004</th>\n",
       "      <td>2019-04-01 00:31:00</td>\n",
       "      <td>2019-04-01 00:12:11</td>\n",
       "    </tr>\n",
       "    <tr>\n",
       "      <th>122013</th>\n",
       "      <td>NaT</td>\n",
       "      <td>2019-04-04 00:04:14</td>\n",
       "    </tr>\n",
       "    <tr>\n",
       "      <th>122023</th>\n",
       "      <td>NaT</td>\n",
       "      <td>2019-04-04 00:18:24</td>\n",
       "    </tr>\n",
       "    <tr>\n",
       "      <th>122031</th>\n",
       "      <td>2019-04-05 17:10:07</td>\n",
       "      <td>2019-04-05 00:43:11</td>\n",
       "    </tr>\n",
       "    <tr>\n",
       "      <th>122078</th>\n",
       "      <td>NaT</td>\n",
       "      <td>2019-04-03 00:15:11</td>\n",
       "    </tr>\n",
       "  </tbody>\n",
       "</table>\n",
       "<p>965 rows × 2 columns</p>\n",
       "</div>"
      ],
      "text/plain": [
       "event                click                view\n",
       "ad_id                                         \n",
       "2      2019-04-01 09:23:54 2019-04-01 00:59:41\n",
       "3      2019-04-01 02:06:11 2019-04-01 00:08:51\n",
       "1902   2019-04-03 15:20:14 2019-04-03 00:48:39\n",
       "2064                   NaT 2019-04-02 00:52:05\n",
       "2132   2019-04-04 08:53:24 2019-04-03 02:01:56\n",
       "...                    ...                 ...\n",
       "122004 2019-04-01 00:31:00 2019-04-01 00:12:11\n",
       "122013                 NaT 2019-04-04 00:04:14\n",
       "122023                 NaT 2019-04-04 00:18:24\n",
       "122031 2019-04-05 17:10:07 2019-04-05 00:43:11\n",
       "122078                 NaT 2019-04-03 00:15:11\n",
       "\n",
       "[965 rows x 2 columns]"
      ]
     },
     "execution_count": 47,
     "metadata": {},
     "output_type": "execute_result"
    }
   ],
   "source": [
    "# Для каждого объявления найдем даты первого показа и первого клика\n",
    "min_date_for_events = ads_df.pivot_table(index='ad_id',\n",
    "                                         columns='event',\n",
    "                                         values='time',\n",
    "                                         aggfunc='min')\n",
    "min_date_for_events"
   ]
  },
  {
   "cell_type": "code",
   "execution_count": 49,
   "id": "7987b9d3",
   "metadata": {},
   "outputs": [
    {
     "data": {
      "text/html": [
       "<div>\n",
       "<style scoped>\n",
       "    .dataframe tbody tr th:only-of-type {\n",
       "        vertical-align: middle;\n",
       "    }\n",
       "\n",
       "    .dataframe tbody tr th {\n",
       "        vertical-align: top;\n",
       "    }\n",
       "\n",
       "    .dataframe thead th {\n",
       "        text-align: right;\n",
       "    }\n",
       "</style>\n",
       "<table border=\"1\" class=\"dataframe\">\n",
       "  <thead>\n",
       "    <tr style=\"text-align: right;\">\n",
       "      <th>event</th>\n",
       "      <th>click</th>\n",
       "      <th>view</th>\n",
       "    </tr>\n",
       "    <tr>\n",
       "      <th>ad_id</th>\n",
       "      <th></th>\n",
       "      <th></th>\n",
       "    </tr>\n",
       "  </thead>\n",
       "  <tbody>\n",
       "    <tr>\n",
       "      <th>18681</th>\n",
       "      <td>2019-04-05 00:18:20</td>\n",
       "      <td>2019-04-05 02:45:35</td>\n",
       "    </tr>\n",
       "    <tr>\n",
       "      <th>23599</th>\n",
       "      <td>2019-04-05 00:05:26</td>\n",
       "      <td>2019-04-05 05:48:26</td>\n",
       "    </tr>\n",
       "    <tr>\n",
       "      <th>32386</th>\n",
       "      <td>2019-04-03 00:03:23</td>\n",
       "      <td>2019-04-03 00:03:25</td>\n",
       "    </tr>\n",
       "    <tr>\n",
       "      <th>33033</th>\n",
       "      <td>2019-04-05 00:10:28</td>\n",
       "      <td>2019-04-05 03:33:11</td>\n",
       "    </tr>\n",
       "    <tr>\n",
       "      <th>36758</th>\n",
       "      <td>2019-04-04 01:21:18</td>\n",
       "      <td>2019-04-04 01:23:42</td>\n",
       "    </tr>\n",
       "    <tr>\n",
       "      <th>38224</th>\n",
       "      <td>2019-04-04 00:02:30</td>\n",
       "      <td>2019-04-04 00:09:24</td>\n",
       "    </tr>\n",
       "    <tr>\n",
       "      <th>44283</th>\n",
       "      <td>2019-04-04 00:09:24</td>\n",
       "      <td>2019-04-04 00:11:36</td>\n",
       "    </tr>\n",
       "    <tr>\n",
       "      <th>44766</th>\n",
       "      <td>2019-04-05 00:54:49</td>\n",
       "      <td>2019-04-05 02:02:57</td>\n",
       "    </tr>\n",
       "    <tr>\n",
       "      <th>46639</th>\n",
       "      <td>2019-04-02 00:01:55</td>\n",
       "      <td>2019-04-02 00:02:06</td>\n",
       "    </tr>\n",
       "    <tr>\n",
       "      <th>98569</th>\n",
       "      <td>2019-04-04 03:09:35</td>\n",
       "      <td>2019-04-04 07:55:00</td>\n",
       "    </tr>\n",
       "    <tr>\n",
       "      <th>107798</th>\n",
       "      <td>2019-04-02 00:20:02</td>\n",
       "      <td>2019-04-02 00:21:14</td>\n",
       "    </tr>\n",
       "    <tr>\n",
       "      <th>114886</th>\n",
       "      <td>2019-04-02 00:31:51</td>\n",
       "      <td>2019-04-02 00:40:49</td>\n",
       "    </tr>\n",
       "  </tbody>\n",
       "</table>\n",
       "</div>"
      ],
      "text/plain": [
       "event                click                view\n",
       "ad_id                                         \n",
       "18681  2019-04-05 00:18:20 2019-04-05 02:45:35\n",
       "23599  2019-04-05 00:05:26 2019-04-05 05:48:26\n",
       "32386  2019-04-03 00:03:23 2019-04-03 00:03:25\n",
       "33033  2019-04-05 00:10:28 2019-04-05 03:33:11\n",
       "36758  2019-04-04 01:21:18 2019-04-04 01:23:42\n",
       "38224  2019-04-04 00:02:30 2019-04-04 00:09:24\n",
       "44283  2019-04-04 00:09:24 2019-04-04 00:11:36\n",
       "44766  2019-04-05 00:54:49 2019-04-05 02:02:57\n",
       "46639  2019-04-02 00:01:55 2019-04-02 00:02:06\n",
       "98569  2019-04-04 03:09:35 2019-04-04 07:55:00\n",
       "107798 2019-04-02 00:20:02 2019-04-02 00:21:14\n",
       "114886 2019-04-02 00:31:51 2019-04-02 00:40:49"
      ]
     },
     "execution_count": 49,
     "metadata": {},
     "output_type": "execute_result"
    }
   ],
   "source": [
    "# Найдем события, где клик раньше показа\n",
    "min_date_for_events.query('click < view')"
   ]
  },
  {
   "cell_type": "markdown",
   "id": "74d3b83c",
   "metadata": {},
   "source": [
    "Мы нашли события, у которых клик наступил раньше просмотра. Необходимо разбираться, что случилось"
   ]
  },
  {
   "cell_type": "code",
   "execution_count": 50,
   "id": "4ee606d7",
   "metadata": {},
   "outputs": [],
   "source": [
    "# Запишем результаты\n",
    "income_by_day.to_csv('income_by_day.csv')\n",
    "amounts_by_events.to_csv('amounts_by_events.csv')"
   ]
  },
  {
   "cell_type": "code",
   "execution_count": null,
   "id": "5ca0dd6f",
   "metadata": {},
   "outputs": [],
   "source": []
  }
 ],
 "metadata": {
  "kernelspec": {
   "display_name": "Python 3 (ipykernel)",
   "language": "python",
   "name": "python3"
  },
  "language_info": {
   "codemirror_mode": {
    "name": "ipython",
    "version": 3
   },
   "file_extension": ".py",
   "mimetype": "text/x-python",
   "name": "python",
   "nbconvert_exporter": "python",
   "pygments_lexer": "ipython3",
   "version": "3.10.0"
  }
 },
 "nbformat": 4,
 "nbformat_minor": 5
}
